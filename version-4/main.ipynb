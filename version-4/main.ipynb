{
 "cells": [
  {
   "cell_type": "code",
   "execution_count": 1,
   "id": "df8f8003-e9f9-47bc-889b-4d46c1f7f50e",
   "metadata": {},
   "outputs": [],
   "source": [
    "import os\n",
    "import re\n",
    "from openai import OpenAI\n",
    "import ast\n",
    "import json\n",
    "import pandas as pd\n",
    "import random\n",
    "import numpy as np\n",
    "import time\n",
    "\n",
    "\n",
    "# OPEN_API_KEY = \"xxx\"\n",
    "\n",
    "\n",
    "client = OpenAI(\n",
    "    api_key=OPEN_API_KEY\n",
    ")\n",
    "\n",
    "def send_openai_messages(messages, model=\"gpt-4o\"):\n",
    "    response = client.chat.completions.create(\n",
    "        model= model, \n",
    "        messages=messages,\n",
    "    )\n",
    "\n",
    "    resp =response.choices[0].message.content\n",
    "    return resp\n",
    "\n",
    "def send_openai_prompt(prompt, model=\"gpt-4o\"):\n",
    "    response = client.chat.completions.create(\n",
    "        model= model, \n",
    "        messages=[{\"role\":\"user\", \"content\": prompt}],\n",
    "    )\n",
    "\n",
    "    resp =response.choices[0].message.content\n",
    "    return resp"
   ]
  },
  {
   "cell_type": "markdown",
   "id": "69a5a93b-bf31-4fde-8c5e-085d2e989eec",
   "metadata": {},
   "source": [
    "# Basic interest"
   ]
  },
  {
   "cell_type": "code",
   "execution_count": 2,
   "id": "a2d3d06d-2d7b-483d-8ce3-b37cadd5bbfa",
   "metadata": {},
   "outputs": [],
   "source": [
    "df_basic_interest = pd.read_excel(\"./data/CABIN File.xlsx\")\n",
    "interests = list(df_basic_interest.columns)[1:]"
   ]
  },
  {
   "cell_type": "code",
   "execution_count": 3,
   "id": "310882fd-1155-492d-b752-23632ec2089c",
   "metadata": {},
   "outputs": [],
   "source": [
    "def get_prompt_7(occupation, description, tasks, basic_interest, definition, questionnaire_items):\n",
    "    return f\"\"\"Your job is to rate how well the basic interest “{basic_interest}” aligns with work performed by people in the occupation “{occupation}”. \n",
    "\n",
    "Use the following information to inform this rating.\n",
    "\n",
    "This is a description of the occupation “{occupation}”: “{description}”. The most important tasks for the occupation “{occupation}” are: “{tasks}”.\n",
    "\n",
    "This is the definition of the basic interest “{basic_interest}”: “{definition}”. Here are some questionnaire items used to assess the basic interest “{basic_interest}”: “{questionnaire_items}”.\n",
    "\n",
    "Using the description and tasks associated with “{occupation}”, and the definition and questionnaire items associated with “{basic_interest}”, ask yourself: “How descriptive is the basic interest “{basic_interest}” of the work performed by the occupation “{occupation}”?”.\n",
    "\n",
    "Rate how well the basic interest “{basic_interest}” aligns with the occupation “{occupation}” using the following 7-point scale.\",\n",
    "    \"1 - Not at all descriptive;”\n",
    "    \"2 - Slightly descriptive;\",\n",
    "    \"3 - Somewhat descriptive;\",\n",
    "    \"4 - Moderately descriptive;\",\n",
    "    \"5 - Quite descriptive;\",\n",
    "    \"6 - Highly descriptive;\",\n",
    "    \"7 - Extremely descriptive.”\n",
    "\n",
    "Return your response with only the number.\n",
    "\"\"\""
   ]
  },
  {
   "cell_type": "code",
   "execution_count": 6,
   "id": "39be8632-6f76-453b-8249-89e67a4bdbd2",
   "metadata": {},
   "outputs": [],
   "source": [
    "def main(input_file_name, output_file_name, model):\n",
    "    # 1.read input file\n",
    "    df_occupation = pd.read_excel(f\"./data/{input_file_name}\")\n",
    "\n",
    "\n",
    "    # Round 1\n",
    "    print(\"------------------------------------- Round one -------------------------------------\")\n",
    "    # 2.Create empty df to hold final data\n",
    "    columns = ['Occupation'] + interests\n",
    "    occupations = list(df_occupation[[\"Title\"]][\"Title\"])\n",
    "    data = {'Occupation': occupations}\n",
    "    for column in columns[1:]:\n",
    "        data[column] = [None] * len(occupations)\n",
    "    df = pd.DataFrame(data)\n",
    "\n",
    "\n",
    "    # 3.making request to LLM\n",
    "    for i in range(len(df_occupation)):\n",
    "        occupation = df_occupation.loc[i, \"Title\"]\n",
    "        description = df_occupation.loc[i, \"Description\"]\n",
    "        tasks = df_occupation.loc[i, \"Task\"]\n",
    "    \n",
    "        print(occupation, end=\"  : \")\n",
    "        # for each of CABIN type\n",
    "        for j in range(len(interests)):\n",
    "            basic_interest = interests[j]\n",
    "            definition = df_basic_interest.loc[0, basic_interest]\n",
    "            questionnaire_items = df_basic_interest.loc[1, basic_interest]\n",
    "    \n",
    "            prompt = get_prompt_7(occupation, description, tasks, basic_interest, definition, questionnaire_items)\n",
    "    \n",
    "            resp = send_openai_prompt(prompt, model=model)\n",
    "            \n",
    "            df.loc[df['Occupation'] == occupation, basic_interest] = resp\n",
    "            print(\".\", end=\"\")\n",
    "        print()    \n",
    "    df.to_excel(f\"./results/{output_file_name}_{model}_round_1.xlsx\")\n",
    "\n",
    "    \n",
    "    # Round 2\n",
    "    print(\"------------------------------------- Round two -------------------------------------\")\n",
    "    # 2.Create empty df to hold final data\n",
    "    columns = ['Occupation'] + interests\n",
    "    occupations = list(df_occupation[[\"Title\"]][\"Title\"])\n",
    "    data = {'Occupation': occupations}\n",
    "    for column in columns[1:]:\n",
    "        data[column] = [None] * len(occupations)\n",
    "    df = pd.DataFrame(data)\n",
    "\n",
    "\n",
    "    # 3.making request to LLM\n",
    "    for i in range(len(df_occupation)):\n",
    "        occupation = df_occupation.loc[i, \"Title\"]\n",
    "        description = df_occupation.loc[i, \"Description\"]\n",
    "        tasks = df_occupation.loc[i, \"Task\"]\n",
    "    \n",
    "        print(occupation, end=\"  : \")\n",
    "        # for each of CABIN type\n",
    "        for j in range(len(interests)):\n",
    "            basic_interest = interests[j]\n",
    "            definition = df_basic_interest.loc[0, basic_interest]\n",
    "            questionnaire_items = df_basic_interest.loc[1, basic_interest]\n",
    "    \n",
    "            prompt = get_prompt_7(occupation, description, tasks, basic_interest, definition, questionnaire_items)\n",
    "    \n",
    "            resp = send_openai_prompt(prompt, model=model)\n",
    "            \n",
    "            df.loc[df['Occupation'] == occupation, basic_interest] = resp\n",
    "            print(\".\", end=\"\")\n",
    "        print()    \n",
    "    df.to_excel(f\"./results/{output_file_name}_{model}_round_2.xlsx\")"
   ]
  },
  {
   "cell_type": "markdown",
   "id": "4353d680-7aa4-42a6-aa37-5c95fd1619ca",
   "metadata": {},
   "source": [
    "# 16 Occupations 6 Tasks"
   ]
  },
  {
   "cell_type": "code",
   "execution_count": null,
   "id": "ece7986a-46e3-4856-b556-e23e1bced095",
   "metadata": {},
   "outputs": [],
   "source": [
    "main(\"16 Occupations 6 tasks.xlsx\", \"6_stasks\", \"gpt-4o\")"
   ]
  },
  {
   "cell_type": "markdown",
   "id": "055c2612-a396-457b-8e3d-f1e778781add",
   "metadata": {},
   "source": [
    "# 16 Occupations 10 tasks"
   ]
  },
  {
   "cell_type": "code",
   "execution_count": null,
   "id": "66e00847-ceca-4a60-a5ab-54763bc76dd4",
   "metadata": {},
   "outputs": [],
   "source": [
    "main(\"16 Occupations 10 tasks.xlsx\", \"10_tasks\", \"gpt-4o\")"
   ]
  },
  {
   "cell_type": "markdown",
   "id": "6e83bc72-22a0-428a-9668-9580b73f708e",
   "metadata": {},
   "source": [
    "# 16 Occupations all core tasks"
   ]
  },
  {
   "cell_type": "code",
   "execution_count": null,
   "id": "35133151-3c19-4279-a8d2-60d9d7e728e2",
   "metadata": {},
   "outputs": [],
   "source": [
    "main(\"16 Occupations all core tasks.xlsx\", \"all_tasks\", \"gpt-4o\")"
   ]
  }
 ],
 "metadata": {
  "kernelspec": {
   "display_name": "Python 3 (ipykernel)",
   "language": "python",
   "name": "python3"
  },
  "language_info": {
   "codemirror_mode": {
    "name": "ipython",
    "version": 3
   },
   "file_extension": ".py",
   "mimetype": "text/x-python",
   "name": "python",
   "nbconvert_exporter": "python",
   "pygments_lexer": "ipython3",
   "version": "3.9.19"
  }
 },
 "nbformat": 4,
 "nbformat_minor": 5
}
